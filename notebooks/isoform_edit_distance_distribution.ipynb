{
 "cells": [
  {
   "cell_type": "code",
   "execution_count": 98,
   "id": "afceb0d5",
   "metadata": {},
   "outputs": [],
   "source": [
    "import pandas as pd\n",
    "import re\n",
    "import matplotlib.pyplot as plt\n",
    "from tqdm import tqdm"
   ]
  },
  {
   "cell_type": "code",
   "execution_count": 19,
   "id": "8e2b1c4d",
   "metadata": {
    "scrolled": true
   },
   "outputs": [
    {
     "data": {
      "text/html": [
       "<div>\n",
       "<style scoped>\n",
       "    .dataframe tbody tr th:only-of-type {\n",
       "        vertical-align: middle;\n",
       "    }\n",
       "\n",
       "    .dataframe tbody tr th {\n",
       "        vertical-align: top;\n",
       "    }\n",
       "\n",
       "    .dataframe thead th {\n",
       "        text-align: right;\n",
       "    }\n",
       "</style>\n",
       "<table border=\"1\" class=\"dataframe\">\n",
       "  <thead>\n",
       "    <tr style=\"text-align: right;\">\n",
       "      <th></th>\n",
       "      <th>win_chr</th>\n",
       "      <th>win_start</th>\n",
       "      <th>win_end</th>\n",
       "      <th>total_isoform</th>\n",
       "      <th>isoform_name</th>\n",
       "      <th>sample_from</th>\n",
       "      <th>sample_compared_to</th>\n",
       "      <th>mapped_start</th>\n",
       "      <th>isoform_sequence</th>\n",
       "      <th>selected_alignments</th>\n",
       "    </tr>\n",
       "  </thead>\n",
       "  <tbody>\n",
       "    <tr>\n",
       "      <th>0</th>\n",
       "      <td>NC_060925.1</td>\n",
       "      <td>255178</td>\n",
       "      <td>288416</td>\n",
       "      <td>4</td>\n",
       "      <td>PB.6.2</td>\n",
       "      <td>HG002</td>\n",
       "      <td>HG004</td>\n",
       "      <td>255184</td>\n",
       "      <td>GGAGCCAAGGTCCGCTCGGGTGAGTGCCCTCCGCTTTTTGTGGCCA...</td>\n",
       "      <td>0.02_HG004_PB.6.2_3=6D1=3D1286=11D</td>\n",
       "    </tr>\n",
       "    <tr>\n",
       "      <th>1</th>\n",
       "      <td>NC_060925.1</td>\n",
       "      <td>255178</td>\n",
       "      <td>288416</td>\n",
       "      <td>4</td>\n",
       "      <td>PB.6.2</td>\n",
       "      <td>HG002</td>\n",
       "      <td>HG005</td>\n",
       "      <td>255184</td>\n",
       "      <td>GGAGCCAAGGTCCGCTCGGGTGAGTGCCCTCCGCTTTTTGTGGCCA...</td>\n",
       "      <td>0.02_HG004_PB.6.2_3=6D1=3D1286=11D</td>\n",
       "    </tr>\n",
       "    <tr>\n",
       "      <th>2</th>\n",
       "      <td>NC_060925.1</td>\n",
       "      <td>255178</td>\n",
       "      <td>288416</td>\n",
       "      <td>4</td>\n",
       "      <td>PB.6.2</td>\n",
       "      <td>HG004</td>\n",
       "      <td>HG002</td>\n",
       "      <td>255173</td>\n",
       "      <td>GGATTATCCGGAGCCAAGGTCCGCTCGGGTGAGTGCCCTCCGCTTT...</td>\n",
       "      <td>0.02_HG002_PB.6.2_3=6I1=3I1286=11I</td>\n",
       "    </tr>\n",
       "    <tr>\n",
       "      <th>3</th>\n",
       "      <td>NC_060925.1</td>\n",
       "      <td>255178</td>\n",
       "      <td>288416</td>\n",
       "      <td>4</td>\n",
       "      <td>PB.6.2</td>\n",
       "      <td>HG004</td>\n",
       "      <td>HG005</td>\n",
       "      <td>255173</td>\n",
       "      <td>GGATTATCCGGAGCCAAGGTCCGCTCGGGTGAGTGCCCTCCGCTTT...</td>\n",
       "      <td>0.02_HG002_PB.6.2_3=6I1=3I1286=11I</td>\n",
       "    </tr>\n",
       "    <tr>\n",
       "      <th>4</th>\n",
       "      <td>NC_060925.1</td>\n",
       "      <td>255178</td>\n",
       "      <td>288416</td>\n",
       "      <td>4</td>\n",
       "      <td>PB.7.3</td>\n",
       "      <td>HG005</td>\n",
       "      <td>HG002</td>\n",
       "      <td>270164</td>\n",
       "      <td>CCCCGCTGCGCGCGTTTCTGGCCCTGCCAGTGTCTCCGCCGGTTGA...</td>\n",
       "      <td>0.54_HG005_PB.7566.3_2X2D3=2X1=1D1=1D2=1X2=2X1...</td>\n",
       "    </tr>\n",
       "  </tbody>\n",
       "</table>\n",
       "</div>"
      ],
      "text/plain": [
       "       win_chr  win_start  win_end  total_isoform isoform_name sample_from  \\\n",
       "0  NC_060925.1     255178   288416              4       PB.6.2       HG002   \n",
       "1  NC_060925.1     255178   288416              4       PB.6.2       HG002   \n",
       "2  NC_060925.1     255178   288416              4       PB.6.2       HG004   \n",
       "3  NC_060925.1     255178   288416              4       PB.6.2       HG004   \n",
       "4  NC_060925.1     255178   288416              4       PB.7.3       HG005   \n",
       "\n",
       "  sample_compared_to  mapped_start  \\\n",
       "0              HG004        255184   \n",
       "1              HG005        255184   \n",
       "2              HG002        255173   \n",
       "3              HG005        255173   \n",
       "4              HG002        270164   \n",
       "\n",
       "                                    isoform_sequence  \\\n",
       "0  GGAGCCAAGGTCCGCTCGGGTGAGTGCCCTCCGCTTTTTGTGGCCA...   \n",
       "1  GGAGCCAAGGTCCGCTCGGGTGAGTGCCCTCCGCTTTTTGTGGCCA...   \n",
       "2  GGATTATCCGGAGCCAAGGTCCGCTCGGGTGAGTGCCCTCCGCTTT...   \n",
       "3  GGATTATCCGGAGCCAAGGTCCGCTCGGGTGAGTGCCCTCCGCTTT...   \n",
       "4  CCCCGCTGCGCGCGTTTCTGGCCCTGCCAGTGTCTCCGCCGGTTGA...   \n",
       "\n",
       "                                 selected_alignments  \n",
       "0                 0.02_HG004_PB.6.2_3=6D1=3D1286=11D  \n",
       "1                 0.02_HG004_PB.6.2_3=6D1=3D1286=11D  \n",
       "2                 0.02_HG002_PB.6.2_3=6I1=3I1286=11I  \n",
       "3                 0.02_HG002_PB.6.2_3=6I1=3I1286=11I  \n",
       "4  0.54_HG005_PB.7566.3_2X2D3=2X1=1D1=1D2=1X2=2X1...  "
      ]
     },
     "execution_count": 19,
     "metadata": {},
     "output_type": "execute_result"
    }
   ],
   "source": [
    "unique_isoform_df = pd.read_csv(\"../data/unique_isoforms_and_aln_stats.tsv\", sep=\"\\t\").dropna()\n",
    "\n",
    "unique_isoform_df.head()"
   ]
  },
  {
   "cell_type": "code",
   "execution_count": 99,
   "id": "57e42789",
   "metadata": {},
   "outputs": [
    {
     "data": {
      "text/plain": [
       "2662.5089486615802"
      ]
     },
     "execution_count": 99,
     "metadata": {},
     "output_type": "execute_result"
    }
   ],
   "source": [
    "unique_isoform_df[\"isoform_sequence\"].apply(lambda x: len(x)).mean()"
   ]
  },
  {
   "cell_type": "code",
   "execution_count": 100,
   "id": "bce560ba",
   "metadata": {},
   "outputs": [],
   "source": [
    "unique_isoform_df[\"normalized_distance\"] = unique_isoform_df.apply(lambda x: x[\"selected_alignments\"].split(\"_\")[0], axis=1)\n",
    "unique_isoform_df[\"cigar_string\"] = unique_isoform_df.apply(lambda x: x[\"selected_alignments\"].split(\"_\")[3], axis=1)"
   ]
  },
  {
   "cell_type": "code",
   "execution_count": 101,
   "id": "66bf358a",
   "metadata": {},
   "outputs": [],
   "source": [
    "unique_isoform_df[\"read_id\"] = unique_isoform_df.apply(lambda x:x[\"isoform_name\"]+\"_\"+x[\"sample_from\"], axis=1)"
   ]
  },
  {
   "cell_type": "code",
   "execution_count": 102,
   "id": "02037ea2",
   "metadata": {},
   "outputs": [],
   "source": [
    "cigar_df = unique_isoform_df[[\"isoform_name\", \"sample_from\",\"cigar_string\"]].drop_duplicates()"
   ]
  },
  {
   "cell_type": "code",
   "execution_count": 114,
   "id": "c269c4b9",
   "metadata": {},
   "outputs": [],
   "source": [
    "def get_edit_pos(cigar):\n",
    "    pos = 0\n",
    "    indel_pos = []\n",
    "    mismatch_pos = []\n",
    "    for length, letter, match in re.findall('(\\d+)([A-Za-z])?(=)?', cigar):\n",
    "        length = int(length)\n",
    "        for i in range(length):\n",
    "            if letter == \"D\" or letter == \"I\":\n",
    "                indel_pos.append(pos)\n",
    "                pos += 1\n",
    "            elif letter == \"X\":\n",
    "                mismatch_pos.append(pos)\n",
    "                pos += 1\n",
    "            else:\n",
    "                pos += length\n",
    "                break\n",
    "    return [int(l/pos*2663) for l in indel_pos], [int(l/pos*2663) for l in mismatch_pos]"
   ]
  },
  {
   "cell_type": "code",
   "execution_count": 127,
   "id": "9dff023f",
   "metadata": {},
   "outputs": [],
   "source": [
    "def plot_indel_mismatch_pos(cigar_strings, label=\"\"):\n",
    "    all_indel_pos = []\n",
    "    all_mismatch_pos = []\n",
    "    for cigar in tqdm(cigar_strings):\n",
    "        indel_pos, mismatch_pos = get_edit_pos(cigar)\n",
    "        all_indel_pos += indel_pos\n",
    "        all_mismatch_pos += mismatch_pos\n",
    "        \n",
    "    fig, ax = plt.subplots(2, sharex=True)\n",
    "    ax[0].hist(all_indel_pos,bins=2663)\n",
    "    ax[1].hist(all_mismatch_pos,bins=2663)\n",
    "\n",
    "    ax[0].set_xlabel(\"Normalized locations on isoform\")\n",
    "    ax[0].set_ylabel(\"Number of indel\")\n",
    "    ax[1].set_xlabel(\"Normalized locations on isoform\")\n",
    "    ax[1].set_ylabel(\"Number of mismatches\")\n",
    "    \n",
    "    ax[0].set_title(\"Distribution of edits on isoform alignments, sample %s\" % label)\n",
    "    \n",
    "    fig.set_size_inches(10,8)"
   ]
  },
  {
   "cell_type": "code",
   "execution_count": 128,
   "id": "9de8bb2a",
   "metadata": {},
   "outputs": [
    {
     "name": "stderr",
     "output_type": "stream",
     "text": [
      "100%|██████████| 72575/72575 [00:10<00:00, 7169.24it/s]\n"
     ]
    },
    {
     "data": {
      "image/png": "[encoded data removed]",
      "text/plain": [
       "<Figure size 720x576 with 2 Axes>"
      ]
     },
     "metadata": {
      "needs_background": "light"
     },
     "output_type": "display_data"
    }
   ],
   "source": [
    "plot_indel_mismatch_pos(cigar_df[\"cigar_string\"])"
   ]
  },
  {
   "cell_type": "code",
   "execution_count": null,
   "id": "a8d16ee2",
   "metadata": {},
   "outputs": [],
   "source": []
  }
 ],
 "metadata": {
  "kernelspec": {
   "display_name": "Python 3",
   "language": "python",
   "name": "python3"
  },
  "language_info": {
   "codemirror_mode": {
    "name": "ipython",
    "version": 3
   },
   "file_extension": ".py",
   "mimetype": "text/x-python",
   "name": "python",
   "nbconvert_exporter": "python",
   "pygments_lexer": "ipython3",
   "version": "3.7.6"
  }
 },
 "nbformat": 4,
 "nbformat_minor": 5
}
